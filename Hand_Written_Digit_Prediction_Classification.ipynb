{
  "nbformat": 4,
  "nbformat_minor": 0,
  "metadata": {
    "colab": {
      "provenance": [],
      "include_colab_link": true
    },
    "kernelspec": {
      "name": "python3",
      "display_name": "Python 3"
    },
    "language_info": {
      "name": "python"
    }
  },
  "cells": [
    {
      "cell_type": "markdown",
      "metadata": {
        "id": "view-in-github",
        "colab_type": "text"
      },
      "source": [
        "<a href=\"https://colab.research.google.com/github/Chaitanya-213/Project/blob/main/Hand_Written_Digit_Prediction_Classification.ipynb\" target=\"_parent\"><img src=\"https://colab.research.google.com/assets/colab-badge.svg\" alt=\"Open In Colab\"/></a>"
      ]
    },
    {
      "cell_type": "markdown",
      "source": [
        "# **Hand Written Digit Prediction - Classification Analysis**\n",
        "\n",
        "\n"
      ],
      "metadata": {
        "id": "-QGwGbgDq_6f"
      }
    },
    {
      "cell_type": "markdown",
      "source": [
        "**The digits dataset consists of 8x8 pixel images of digits. The images attribute of the dataset stores 8x8 arrays of grayscale values for each image.We will use these arrays to visualize the first 4 images.The target attribute of the dataset stores the digit each image represents**"
      ],
      "metadata": {
        "id": "HhmA1aBrwUNd"
      }
    },
    {
      "cell_type": "markdown",
      "source": [
        "# **Import Library**"
      ],
      "metadata": {
        "id": "adQf6d6mu03u"
      }
    },
    {
      "cell_type": "code",
      "source": [
        "import pandas as pd"
      ],
      "metadata": {
        "id": "ipmmNzXpxA6k"
      },
      "execution_count": null,
      "outputs": []
    },
    {
      "cell_type": "code",
      "source": [
        "import numpy as np"
      ],
      "metadata": {
        "id": "RZtYWopCxHGz"
      },
      "execution_count": null,
      "outputs": []
    },
    {
      "cell_type": "code",
      "source": [
        "import matplotlib.pyplot as plt"
      ],
      "metadata": {
        "id": "cnsaxEf4xQgw"
      },
      "execution_count": null,
      "outputs": []
    },
    {
      "cell_type": "markdown",
      "source": [
        "# **Import Data**"
      ],
      "metadata": {
        "id": "ulYHbsdTxbQq"
      }
    },
    {
      "cell_type": "code",
      "source": [
        "from sklearn.datasets import load_digits"
      ],
      "metadata": {
        "id": "KdrjFKbQxlgV"
      },
      "execution_count": null,
      "outputs": []
    },
    {
      "cell_type": "code",
      "source": [
        "df = load_digits()"
      ],
      "metadata": {
        "id": "FVBW0eXHx3ni"
      },
      "execution_count": null,
      "outputs": []
    },
    {
      "cell_type": "code",
      "source": [
        "_, axes = plt.subplots(nrows=1, ncols=4, figsize=(10, 3))\n",
        "for ax, image, label in zip(axes, df.images, df.target):\n",
        "    ax.set_axis_off()\n",
        "    ax.imshow(image, cmap=plt.cm.gray_r, interpolation=\"nearest\")\n",
        "    ax.set_title(\"Training: %i\" % label)"
      ],
      "metadata": {
        "colab": {
          "base_uri": "https://localhost:8080/",
          "height": 227
        },
        "id": "XRqUAJ5Fx8ug",
        "outputId": "8b13696c-c132-483e-ea56-f3dc13c9758d"
      },
      "execution_count": null,
      "outputs": [
        {
          "output_type": "display_data",
          "data": {
            "text/plain": [
              "<Figure size 1000x300 with 4 Axes>"
            ],
            "image/png": "[encoded data removed]"
          },
          "metadata": {}
        }
      ]
    },
    {
      "cell_type": "markdown",
      "source": [
        "# **Data Preprocessing**"
      ],
      "metadata": {
        "id": "hFa2LKK1zETE"
      }
    },
    {
      "cell_type": "markdown",
      "source": [
        "**Flatten Image**\n",
        "![Your paragraph text.png](data:image/png;base64,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)"
      ],
      "metadata": {
        "id": "K7wV8yY5zOHo"
      }
    },
    {
      "cell_type": "code",
      "source": [
        "df.images.shape"
      ],
      "metadata": {
        "colab": {
          "base_uri": "https://localhost:8080/"
        },
        "id": "ZC5vwLz02yAA",
        "outputId": "298ee996-17dc-4e3f-e486-5bc5d2e25534"
      },
      "execution_count": null,
      "outputs": [
        {
          "output_type": "execute_result",
          "data": {
            "text/plain": [
              "(1797, 8, 8)"
            ]
          },
          "metadata": {},
          "execution_count": 18
        }
      ]
    },
    {
      "cell_type": "code",
      "source": [
        "df.images[0]"
      ],
      "metadata": {
        "colab": {
          "base_uri": "https://localhost:8080/"
        },
        "id": "noXPHnz43ge6",
        "outputId": "5eb9c5b8-2736-4ecf-c8b9-9b1d3d8a843d"
      },
      "execution_count": null,
      "outputs": [
        {
          "output_type": "execute_result",
          "data": {
            "text/plain": [
              "array([[ 0.,  0.,  5., 13.,  9.,  1.,  0.,  0.],\n",
              "       [ 0.,  0., 13., 15., 10., 15.,  5.,  0.],\n",
              "       [ 0.,  3., 15.,  2.,  0., 11.,  8.,  0.],\n",
              "       [ 0.,  4., 12.,  0.,  0.,  8.,  8.,  0.],\n",
              "       [ 0.,  5.,  8.,  0.,  0.,  9.,  8.,  0.],\n",
              "       [ 0.,  4., 11.,  0.,  1., 12.,  7.,  0.],\n",
              "       [ 0.,  2., 14.,  5., 10., 12.,  0.,  0.],\n",
              "       [ 0.,  0.,  6., 13., 10.,  0.,  0.,  0.]])"
            ]
          },
          "metadata": {},
          "execution_count": 19
        }
      ]
    },
    {
      "cell_type": "code",
      "source": [
        "df.images[0].shape"
      ],
      "metadata": {
        "colab": {
          "base_uri": "https://localhost:8080/"
        },
        "id": "_zGyklpm3rGV",
        "outputId": "f8f2af14-5419-4222-d96e-389dded29db9"
      },
      "execution_count": null,
      "outputs": [
        {
          "output_type": "execute_result",
          "data": {
            "text/plain": [
              "(8, 8)"
            ]
          },
          "metadata": {},
          "execution_count": 20
        }
      ]
    },
    {
      "cell_type": "code",
      "source": [
        "len(df.images)"
      ],
      "metadata": {
        "colab": {
          "base_uri": "https://localhost:8080/"
        },
        "id": "IJMuRC2u3wiU",
        "outputId": "3d25fe00-6c15-47b8-8a1f-fa42a7856689"
      },
      "execution_count": null,
      "outputs": [
        {
          "output_type": "execute_result",
          "data": {
            "text/plain": [
              "1797"
            ]
          },
          "metadata": {},
          "execution_count": 21
        }
      ]
    },
    {
      "cell_type": "code",
      "source": [
        "len(df.images)"
      ],
      "metadata": {
        "colab": {
          "base_uri": "https://localhost:8080/"
        },
        "id": "KRG5Imt531K4",
        "outputId": "b5da1816-0ba0-4ea3-8dfb-670f1e5adf01"
      },
      "execution_count": null,
      "outputs": [
        {
          "output_type": "execute_result",
          "data": {
            "text/plain": [
              "1797"
            ]
          },
          "metadata": {},
          "execution_count": 22
        }
      ]
    },
    {
      "cell_type": "code",
      "source": [
        "n_samples = len(df.images)\n",
        "data = df.images.reshape((n_samples, -1))"
      ],
      "metadata": {
        "id": "HaWVq0rN5ywd"
      },
      "execution_count": null,
      "outputs": []
    },
    {
      "cell_type": "code",
      "source": [
        "data[0]"
      ],
      "metadata": {
        "colab": {
          "base_uri": "https://localhost:8080/"
        },
        "id": "2fKCafF85_MD",
        "outputId": "4eb04eed-dc61-4cf6-d1e8-8fe764024275"
      },
      "execution_count": null,
      "outputs": [
        {
          "output_type": "execute_result",
          "data": {
            "text/plain": [
              "array([ 0.,  0.,  5., 13.,  9.,  1.,  0.,  0.,  0.,  0., 13., 15., 10.,\n",
              "       15.,  5.,  0.,  0.,  3., 15.,  2.,  0., 11.,  8.,  0.,  0.,  4.,\n",
              "       12.,  0.,  0.,  8.,  8.,  0.,  0.,  5.,  8.,  0.,  0.,  9.,  8.,\n",
              "        0.,  0.,  4., 11.,  0.,  1., 12.,  7.,  0.,  0.,  2., 14.,  5.,\n",
              "       10., 12.,  0.,  0.,  0.,  0.,  6., 13., 10.,  0.,  0.,  0.])"
            ]
          },
          "metadata": {},
          "execution_count": 30
        }
      ]
    },
    {
      "cell_type": "code",
      "source": [
        "data[0].shape"
      ],
      "metadata": {
        "colab": {
          "base_uri": "https://localhost:8080/"
        },
        "id": "iG2IpqV26E8H",
        "outputId": "6efe7526-019f-4cff-bcb9-9cbd982a5df1"
      },
      "execution_count": null,
      "outputs": [
        {
          "output_type": "execute_result",
          "data": {
            "text/plain": [
              "(64,)"
            ]
          },
          "metadata": {},
          "execution_count": 31
        }
      ]
    },
    {
      "cell_type": "code",
      "source": [
        "data.shape"
      ],
      "metadata": {
        "colab": {
          "base_uri": "https://localhost:8080/"
        },
        "id": "qRfMhntB6M6Q",
        "outputId": "b4741aae-0c27-4092-a47f-adad705efa6d"
      },
      "execution_count": null,
      "outputs": [
        {
          "output_type": "execute_result",
          "data": {
            "text/plain": [
              "(1797, 64)"
            ]
          },
          "metadata": {},
          "execution_count": 32
        }
      ]
    },
    {
      "cell_type": "markdown",
      "source": [
        "# **Scaling Image Data**"
      ],
      "metadata": {
        "id": "QZ951xgv6QDQ"
      }
    },
    {
      "cell_type": "code",
      "source": [
        "data.min()"
      ],
      "metadata": {
        "colab": {
          "base_uri": "https://localhost:8080/"
        },
        "id": "z6ZzoeEn6YWI",
        "outputId": "91e68551-93ea-4202-c6ca-d1b12790a47d"
      },
      "execution_count": null,
      "outputs": [
        {
          "output_type": "execute_result",
          "data": {
            "text/plain": [
              "0.0"
            ]
          },
          "metadata": {},
          "execution_count": 33
        }
      ]
    },
    {
      "cell_type": "code",
      "source": [
        "data.max()"
      ],
      "metadata": {
        "colab": {
          "base_uri": "https://localhost:8080/"
        },
        "id": "LY5uQLrS6eJT",
        "outputId": "97f44eae-50b7-442e-a208-695870695e1d"
      },
      "execution_count": null,
      "outputs": [
        {
          "output_type": "execute_result",
          "data": {
            "text/plain": [
              "16.0"
            ]
          },
          "metadata": {},
          "execution_count": 34
        }
      ]
    },
    {
      "cell_type": "code",
      "source": [
        "data = data/16"
      ],
      "metadata": {
        "id": "HlA4i7V16iS1"
      },
      "execution_count": null,
      "outputs": []
    },
    {
      "cell_type": "code",
      "source": [
        "data.min()"
      ],
      "metadata": {
        "colab": {
          "base_uri": "https://localhost:8080/"
        },
        "id": "Kb1U3vxq6iwt",
        "outputId": "05451df9-d0b5-4fab-dc89-c40639a82b3e"
      },
      "execution_count": null,
      "outputs": [
        {
          "output_type": "execute_result",
          "data": {
            "text/plain": [
              "0.0"
            ]
          },
          "metadata": {},
          "execution_count": 36
        }
      ]
    },
    {
      "cell_type": "code",
      "source": [
        "data.max()"
      ],
      "metadata": {
        "colab": {
          "base_uri": "https://localhost:8080/"
        },
        "id": "uOibTubU6wct",
        "outputId": "b30875e6-35bd-4d47-c7ee-b140e266f0a9"
      },
      "execution_count": null,
      "outputs": [
        {
          "output_type": "execute_result",
          "data": {
            "text/plain": [
              "1.0"
            ]
          },
          "metadata": {},
          "execution_count": 37
        }
      ]
    },
    {
      "cell_type": "code",
      "source": [
        "data[0]"
      ],
      "metadata": {
        "colab": {
          "base_uri": "https://localhost:8080/"
        },
        "id": "1aGX7zbk60Gq",
        "outputId": "9fae4079-c53d-4b13-84d5-1a9b59b51610"
      },
      "execution_count": null,
      "outputs": [
        {
          "output_type": "execute_result",
          "data": {
            "text/plain": [
              "array([0.    , 0.    , 0.3125, 0.8125, 0.5625, 0.0625, 0.    , 0.    ,\n",
              "       0.    , 0.    , 0.8125, 0.9375, 0.625 , 0.9375, 0.3125, 0.    ,\n",
              "       0.    , 0.1875, 0.9375, 0.125 , 0.    , 0.6875, 0.5   , 0.    ,\n",
              "       0.    , 0.25  , 0.75  , 0.    , 0.    , 0.5   , 0.5   , 0.    ,\n",
              "       0.    , 0.3125, 0.5   , 0.    , 0.    , 0.5625, 0.5   , 0.    ,\n",
              "       0.    , 0.25  , 0.6875, 0.    , 0.0625, 0.75  , 0.4375, 0.    ,\n",
              "       0.    , 0.125 , 0.875 , 0.3125, 0.625 , 0.75  , 0.    , 0.    ,\n",
              "       0.    , 0.    , 0.375 , 0.8125, 0.625 , 0.    , 0.    , 0.    ])"
            ]
          },
          "metadata": {},
          "execution_count": 38
        }
      ]
    },
    {
      "cell_type": "markdown",
      "source": [
        "# **Train Test Split Data**"
      ],
      "metadata": {
        "id": "_xJkL0Z8661N"
      }
    },
    {
      "cell_type": "code",
      "source": [
        "from sklearn.model_selection import train_test_split"
      ],
      "metadata": {
        "id": "N2O0uoLs7E-l"
      },
      "execution_count": null,
      "outputs": []
    },
    {
      "cell_type": "code",
      "source": [
        "X_train, X_test, y_train, y_test = train_test_split(data, df.target, test_size=0.3)"
      ],
      "metadata": {
        "id": "4TLt0MOE7MwE"
      },
      "execution_count": null,
      "outputs": []
    },
    {
      "cell_type": "code",
      "source": [
        "X_train.shape, X_test.shape, y_train.shape, y_test.shape"
      ],
      "metadata": {
        "colab": {
          "base_uri": "https://localhost:8080/"
        },
        "id": "ShZ_q1Ki7cwq",
        "outputId": "1d525aa5-0b12-4c8a-fa21-840b689d984c"
      },
      "execution_count": null,
      "outputs": [
        {
          "output_type": "execute_result",
          "data": {
            "text/plain": [
              "((1257, 64), (540, 64), (1257,), (540,))"
            ]
          },
          "metadata": {},
          "execution_count": 42
        }
      ]
    },
    {
      "cell_type": "markdown",
      "source": [
        "# **Random Forest Model**"
      ],
      "metadata": {
        "id": "bQtbqNmB7pMZ"
      }
    },
    {
      "cell_type": "code",
      "source": [
        "from sklearn.ensemble import RandomForestClassifier"
      ],
      "metadata": {
        "id": "uYpu1XoJ7vZZ"
      },
      "execution_count": null,
      "outputs": []
    },
    {
      "cell_type": "code",
      "source": [
        "rf = RandomForestClassifier()"
      ],
      "metadata": {
        "id": "BN5FmIay70E7"
      },
      "execution_count": null,
      "outputs": []
    },
    {
      "cell_type": "code",
      "source": [
        "rf.fit(X_train, y_train)"
      ],
      "metadata": {
        "colab": {
          "base_uri": "https://localhost:8080/",
          "height": 75
        },
        "id": "OOLBtZnV76f3",
        "outputId": "a7b79209-35ec-4757-d25f-461c0c7541e8"
      },
      "execution_count": null,
      "outputs": [
        {
          "output_type": "execute_result",
          "data": {
            "text/plain": [
              "RandomForestClassifier()"
            ],
            "text/html": [
              "<style>#sk-container-id-1 {color: black;background-color: white;}#sk-container-id-1 pre{padding: 0;}#sk-container-id-1 div.sk-toggleable {background-color: white;}#sk-container-id-1 label.sk-toggleable__label {cursor: pointer;display: block;width: 100%;margin-bottom: 0;padding: 0.3em;box-sizing: border-box;text-align: center;}#sk-container-id-1 label.sk-toggleable__label-arrow:before {content: \"▸\";float: left;margin-right: 0.25em;color: #696969;}#sk-container-id-1 label.sk-toggleable__label-arrow:hover:before {color: black;}#sk-container-id-1 div.sk-estimator:hover label.sk-toggleable__label-arrow:before {color: black;}#sk-container-id-1 div.sk-toggleable__content {max-height: 0;max-width: 0;overflow: hidden;text-align: left;background-color: #f0f8ff;}#sk-container-id-1 div.sk-toggleable__content pre {margin: 0.2em;color: black;border-radius: 0.25em;background-color: #f0f8ff;}#sk-container-id-1 input.sk-toggleable__control:checked~div.sk-toggleable__content {max-height: 200px;max-width: 100%;overflow: auto;}#sk-container-id-1 input.sk-toggleable__control:checked~label.sk-toggleable__label-arrow:before {content: \"▾\";}#sk-container-id-1 div.sk-estimator input.sk-toggleable__control:checked~label.sk-toggleable__label {background-color: #d4ebff;}#sk-container-id-1 div.sk-label input.sk-toggleable__control:checked~label.sk-toggleable__label {background-color: #d4ebff;}#sk-container-id-1 input.sk-hidden--visually {border: 0;clip: rect(1px 1px 1px 1px);clip: rect(1px, 1px, 1px, 1px);height: 1px;margin: -1px;overflow: hidden;padding: 0;position: absolute;width: 1px;}#sk-container-id-1 div.sk-estimator {font-family: monospace;background-color: #f0f8ff;border: 1px dotted black;border-radius: 0.25em;box-sizing: border-box;margin-bottom: 0.5em;}#sk-container-id-1 div.sk-estimator:hover {background-color: #d4ebff;}#sk-container-id-1 div.sk-parallel-item::after {content: \"\";width: 100%;border-bottom: 1px solid gray;flex-grow: 1;}#sk-container-id-1 div.sk-label:hover label.sk-toggleable__label {background-color: #d4ebff;}#sk-container-id-1 div.sk-serial::before {content: \"\";position: absolute;border-left: 1px solid gray;box-sizing: border-box;top: 0;bottom: 0;left: 50%;z-index: 0;}#sk-container-id-1 div.sk-serial {display: flex;flex-direction: column;align-items: center;background-color: white;padding-right: 0.2em;padding-left: 0.2em;position: relative;}#sk-container-id-1 div.sk-item {position: relative;z-index: 1;}#sk-container-id-1 div.sk-parallel {display: flex;align-items: stretch;justify-content: center;background-color: white;position: relative;}#sk-container-id-1 div.sk-item::before, #sk-container-id-1 div.sk-parallel-item::before {content: \"\";position: absolute;border-left: 1px solid gray;box-sizing: border-box;top: 0;bottom: 0;left: 50%;z-index: -1;}#sk-container-id-1 div.sk-parallel-item {display: flex;flex-direction: column;z-index: 1;position: relative;background-color: white;}#sk-container-id-1 div.sk-parallel-item:first-child::after {align-self: flex-end;width: 50%;}#sk-container-id-1 div.sk-parallel-item:last-child::after {align-self: flex-start;width: 50%;}#sk-container-id-1 div.sk-parallel-item:only-child::after {width: 0;}#sk-container-id-1 div.sk-dashed-wrapped {border: 1px dashed gray;margin: 0 0.4em 0.5em 0.4em;box-sizing: border-box;padding-bottom: 0.4em;background-color: white;}#sk-container-id-1 div.sk-label label {font-family: monospace;font-weight: bold;display: inline-block;line-height: 1.2em;}#sk-container-id-1 div.sk-label-container {text-align: center;}#sk-container-id-1 div.sk-container {/* jupyter's `normalize.less` sets `[hidden] { display: none; }` but bootstrap.min.css set `[hidden] { display: none !important; }` so we also need the `!important` here to be able to override the default hidden behavior on the sphinx rendered scikit-learn.org. See: https://github.com/scikit-learn/scikit-learn/issues/21755 */display: inline-block !important;position: relative;}#sk-container-id-1 div.sk-text-repr-fallback {display: none;}</style><div id=\"sk-container-id-1\" class=\"sk-top-container\"><div class=\"sk-text-repr-fallback\"><pre>RandomForestClassifier()</pre><b>In a Jupyter environment, please rerun this cell to show the HTML representation or trust the notebook. <br />On GitHub, the HTML representation is unable to render, please try loading this page with nbviewer.org.</b></div><div class=\"sk-container\" hidden><div class=\"sk-item\"><div class=\"sk-estimator sk-toggleable\"><input class=\"sk-toggleable__control sk-hidden--visually\" id=\"sk-estimator-id-1\" type=\"checkbox\" checked><label for=\"sk-estimator-id-1\" class=\"sk-toggleable__label sk-toggleable__label-arrow\">RandomForestClassifier</label><div class=\"sk-toggleable__content\"><pre>RandomForestClassifier()</pre></div></div></div></div></div>"
            ]
          },
          "metadata": {},
          "execution_count": 45
        }
      ]
    },
    {
      "cell_type": "markdown",
      "source": [
        "# **Predict Test Data**"
      ],
      "metadata": {
        "id": "AOK8qYEr8JRG"
      }
    },
    {
      "cell_type": "code",
      "source": [
        "y_pred = rf.predict(X_test)"
      ],
      "metadata": {
        "id": "Tq_-uRZ48PlM"
      },
      "execution_count": null,
      "outputs": []
    },
    {
      "cell_type": "code",
      "source": [
        "y_pred"
      ],
      "metadata": {
        "colab": {
          "base_uri": "https://localhost:8080/"
        },
        "id": "eaB6BHjj8Zq6",
        "outputId": "f9497edb-3c71-48fe-a079-00bbc15da635"
      },
      "execution_count": null,
      "outputs": [
        {
          "output_type": "execute_result",
          "data": {
            "text/plain": [
              "array([5, 2, 2, 7, 2, 8, 5, 2, 3, 6, 9, 7, 1, 2, 6, 2, 9, 5, 0, 0, 7, 0,\n",
              "       2, 5, 1, 2, 2, 6, 0, 2, 2, 5, 8, 7, 5, 0, 2, 3, 3, 6, 6, 2, 1, 6,\n",
              "       4, 3, 8, 4, 6, 1, 7, 5, 2, 4, 9, 5, 7, 1, 7, 3, 2, 2, 8, 0, 5, 3,\n",
              "       0, 0, 2, 7, 1, 4, 7, 6, 5, 1, 2, 9, 2, 9, 4, 6, 6, 1, 6, 3, 3, 3,\n",
              "       9, 3, 2, 3, 0, 2, 1, 6, 8, 9, 2, 2, 0, 8, 4, 6, 6, 5, 4, 7, 4, 1,\n",
              "       1, 0, 0, 5, 8, 0, 6, 4, 1, 5, 5, 9, 9, 0, 7, 7, 1, 6, 9, 2, 2, 8,\n",
              "       9, 8, 4, 3, 9, 7, 3, 6, 1, 6, 8, 3, 8, 1, 0, 7, 0, 5, 2, 9, 3, 8,\n",
              "       8, 8, 2, 9, 4, 2, 9, 1, 0, 1, 9, 8, 8, 8, 4, 1, 4, 0, 2, 9, 2, 2,\n",
              "       0, 8, 0, 1, 4, 3, 6, 9, 3, 6, 9, 9, 9, 9, 5, 2, 8, 0, 2, 0, 3, 8,\n",
              "       8, 6, 0, 8, 4, 1, 3, 2, 6, 7, 4, 5, 4, 8, 2, 0, 0, 1, 9, 1, 0, 8,\n",
              "       3, 3, 6, 2, 2, 0, 6, 4, 2, 8, 1, 7, 6, 5, 7, 4, 8, 0, 7, 9, 0, 1,\n",
              "       0, 3, 8, 6, 4, 3, 4, 1, 5, 6, 3, 6, 5, 2, 6, 6, 8, 2, 4, 1, 1, 0,\n",
              "       6, 3, 8, 7, 7, 0, 9, 6, 7, 3, 0, 9, 7, 7, 0, 8, 5, 9, 4, 5, 3, 4,\n",
              "       7, 2, 4, 5, 2, 4, 4, 3, 2, 0, 6, 6, 0, 9, 3, 7, 4, 7, 2, 6, 9, 9,\n",
              "       3, 2, 6, 7, 1, 1, 3, 0, 8, 7, 9, 6, 8, 9, 9, 1, 9, 4, 1, 3, 6, 4,\n",
              "       5, 4, 4, 9, 7, 1, 2, 4, 7, 7, 1, 2, 2, 8, 3, 0, 4, 4, 9, 7, 0, 9,\n",
              "       7, 1, 7, 5, 5, 5, 4, 7, 5, 9, 6, 4, 4, 3, 7, 0, 6, 5, 9, 7, 4, 7,\n",
              "       3, 9, 8, 8, 2, 3, 4, 9, 8, 6, 3, 5, 2, 4, 8, 1, 5, 3, 9, 2, 0, 3,\n",
              "       9, 5, 3, 6, 7, 4, 5, 1, 7, 7, 3, 9, 2, 4, 0, 5, 4, 4, 4, 7, 3, 8,\n",
              "       4, 8, 4, 8, 6, 8, 1, 0, 4, 0, 7, 1, 2, 0, 5, 4, 5, 0, 8, 3, 4, 7,\n",
              "       1, 7, 8, 2, 9, 7, 5, 8, 7, 3, 6, 9, 3, 8, 7, 3, 6, 6, 9, 6, 5, 0,\n",
              "       2, 0, 3, 4, 6, 7, 9, 2, 6, 9, 2, 9, 2, 1, 5, 6, 0, 9, 5, 9, 3, 7,\n",
              "       1, 7, 9, 6, 6, 0, 1, 3, 6, 3, 3, 6, 1, 0, 5, 9, 9, 2, 0, 4, 7, 5,\n",
              "       8, 3, 9, 6, 5, 3, 7, 2, 6, 5, 0, 9, 8, 8, 0, 4, 1, 1, 0, 7, 0, 1,\n",
              "       7, 2, 2, 7, 0, 8, 7, 3, 1, 3, 6, 4])"
            ]
          },
          "metadata": {},
          "execution_count": 48
        }
      ]
    },
    {
      "cell_type": "markdown",
      "source": [
        "# **Model Accuracy**"
      ],
      "metadata": {
        "id": "7b1mAkXw8foi"
      }
    },
    {
      "cell_type": "code",
      "source": [
        "from sklearn.metrics import confusion_matrix, classification_report"
      ],
      "metadata": {
        "id": "jdQ3FSh_8k8D"
      },
      "execution_count": null,
      "outputs": []
    },
    {
      "cell_type": "code",
      "source": [
        "confusion_matrix(y_test, y_pred)"
      ],
      "metadata": {
        "colab": {
          "base_uri": "https://localhost:8080/"
        },
        "id": "ZqrQXRpp8sec",
        "outputId": "66bd903e-9b95-46cd-cc48-249ae2a14608"
      },
      "execution_count": null,
      "outputs": [
        {
          "output_type": "execute_result",
          "data": {
            "text/plain": [
              "array([[56,  0,  0,  0,  1,  0,  0,  0,  0,  0],\n",
              "       [ 0, 44,  0,  0,  0,  0,  0,  0,  0,  0],\n",
              "       [ 1,  0, 62,  0,  0,  0,  0,  0,  0,  0],\n",
              "       [ 0,  0,  0, 55,  0,  0,  0,  0,  1,  0],\n",
              "       [ 0,  0,  0,  0, 54,  0,  0,  1,  0,  0],\n",
              "       [ 0,  0,  0,  0,  0, 44,  0,  0,  1,  0],\n",
              "       [ 0,  0,  0,  0,  0,  0, 57,  0,  0,  0],\n",
              "       [ 0,  0,  0,  0,  0,  0,  0, 56,  0,  0],\n",
              "       [ 0,  3,  0,  0,  0,  0,  0,  0, 46,  0],\n",
              "       [ 0,  0,  0,  0,  0,  0,  0,  0,  1, 57]])"
            ]
          },
          "metadata": {},
          "execution_count": 50
        }
      ]
    },
    {
      "cell_type": "code",
      "source": [
        "print(classification_report (y_test, y_pred))"
      ],
      "metadata": {
        "colab": {
          "base_uri": "https://localhost:8080/"
        },
        "id": "n10AhzMJ9gtS",
        "outputId": "5a78c96e-c2fe-4752-ac94-ad7e28873740"
      },
      "execution_count": null,
      "outputs": [
        {
          "output_type": "stream",
          "name": "stdout",
          "text": [
            "              precision    recall  f1-score   support\n",
            "\n",
            "           0       0.98      0.98      0.98        57\n",
            "           1       0.94      1.00      0.97        44\n",
            "           2       1.00      0.98      0.99        63\n",
            "           3       1.00      0.98      0.99        56\n",
            "           4       0.98      0.98      0.98        55\n",
            "           5       1.00      0.98      0.99        45\n",
            "           6       1.00      1.00      1.00        57\n",
            "           7       0.98      1.00      0.99        56\n",
            "           8       0.94      0.94      0.94        49\n",
            "           9       1.00      0.98      0.99        58\n",
            "\n",
            "    accuracy                           0.98       540\n",
            "   macro avg       0.98      0.98      0.98       540\n",
            "weighted avg       0.98      0.98      0.98       540\n",
            "\n"
          ]
        }
      ]
    }
  ]
}